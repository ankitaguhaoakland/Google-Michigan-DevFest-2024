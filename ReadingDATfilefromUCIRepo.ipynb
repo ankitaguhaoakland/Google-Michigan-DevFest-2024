{
 "cells": [
  {
   "cell_type": "code",
   "execution_count": 1,
   "id": "2452d15b-70b4-4899-81bc-648852cad187",
   "metadata": {},
   "outputs": [
    {
     "name": "stdout",
     "output_type": "stream",
     "text": [
      "Collecting ucimlrepo\n",
      "  Downloading ucimlrepo-0.0.7-py3-none-any.whl.metadata (5.5 kB)\n",
      "Requirement already satisfied: pandas>=1.0.0 in c:\\users\\ankit\\anaconda3\\lib\\site-packages (from ucimlrepo) (2.2.2)\n",
      "Requirement already satisfied: certifi>=2020.12.5 in c:\\users\\ankit\\anaconda3\\lib\\site-packages (from ucimlrepo) (2024.7.4)\n",
      "Requirement already satisfied: numpy>=1.23.2 in c:\\users\\ankit\\anaconda3\\lib\\site-packages (from pandas>=1.0.0->ucimlrepo) (1.26.4)\n",
      "Requirement already satisfied: python-dateutil>=2.8.2 in c:\\users\\ankit\\anaconda3\\lib\\site-packages (from pandas>=1.0.0->ucimlrepo) (2.9.0.post0)\n",
      "Requirement already satisfied: pytz>=2020.1 in c:\\users\\ankit\\anaconda3\\lib\\site-packages (from pandas>=1.0.0->ucimlrepo) (2024.1)\n",
      "Requirement already satisfied: tzdata>=2022.7 in c:\\users\\ankit\\anaconda3\\lib\\site-packages (from pandas>=1.0.0->ucimlrepo) (2023.3)\n",
      "Requirement already satisfied: six>=1.5 in c:\\users\\ankit\\anaconda3\\lib\\site-packages (from python-dateutil>=2.8.2->pandas>=1.0.0->ucimlrepo) (1.16.0)\n",
      "Downloading ucimlrepo-0.0.7-py3-none-any.whl (8.0 kB)\n",
      "Installing collected packages: ucimlrepo\n",
      "Successfully installed ucimlrepo-0.0.7\n"
     ]
    }
   ],
   "source": [
    "!pip3 install -U ucimlrepo "
   ]
  },
  {
   "cell_type": "code",
   "execution_count": 5,
   "id": "45341032-d91f-4f61-975e-7ffe873625fb",
   "metadata": {},
   "outputs": [
    {
     "name": "stdout",
     "output_type": "stream",
     "text": [
      "This database contains 76 attributes, but all published experiments refer to using a subset of 14 of them.  In particular, the Cleveland database is the only one that has been used by ML researchers to date.  The \"goal\" field refers to the presence of heart disease in the patient.  It is integer valued from 0 (no presence) to 4. Experiments with the Cleveland database have concentrated on simply attempting to distinguish presence (values 1,2,3,4) from absence (value 0).  \n",
      "   \n",
      "The names and social security numbers of the patients were recently removed from the database, replaced with dummy values.\n",
      "\n",
      "One file has been \"processed\", that one containing the Cleveland database.  All four unprocessed files also exist in this directory.\n",
      "\n",
      "To see Test Costs (donated by Peter Turney), please see the folder \"Costs\" \n",
      "        name     role         type demographic  \\\n",
      "0        age  Feature      Integer         Age   \n",
      "1        sex  Feature  Categorical         Sex   \n",
      "2         cp  Feature  Categorical        None   \n",
      "3   trestbps  Feature      Integer        None   \n",
      "4       chol  Feature      Integer        None   \n",
      "5        fbs  Feature  Categorical        None   \n",
      "6    restecg  Feature  Categorical        None   \n",
      "7    thalach  Feature      Integer        None   \n",
      "8      exang  Feature  Categorical        None   \n",
      "9    oldpeak  Feature      Integer        None   \n",
      "10     slope  Feature  Categorical        None   \n",
      "11        ca  Feature      Integer        None   \n",
      "12      thal  Feature  Categorical        None   \n",
      "13       num   Target      Integer        None   \n",
      "\n",
      "                                          description  units missing_values  \n",
      "0                                                None  years             no  \n",
      "1                                                None   None             no  \n",
      "2                                                None   None             no  \n",
      "3   resting blood pressure (on admission to the ho...  mm Hg             no  \n",
      "4                                   serum cholestoral  mg/dl             no  \n",
      "5                     fasting blood sugar > 120 mg/dl   None             no  \n",
      "6                                                None   None             no  \n",
      "7                         maximum heart rate achieved   None             no  \n",
      "8                             exercise induced angina   None             no  \n",
      "9   ST depression induced by exercise relative to ...   None             no  \n",
      "10                                               None   None             no  \n",
      "11  number of major vessels (0-3) colored by flour...   None            yes  \n",
      "12                                               None   None            yes  \n",
      "13                         diagnosis of heart disease   None             no  \n"
     ]
    }
   ],
   "source": [
    "from ucimlrepo import fetch_ucirepo, list_available_datasets\n",
    "\n",
    "# check which datasets can be imported\n",
    "# list_available_datasets()\n",
    "\n",
    "# import dataset\n",
    "heart_disease = fetch_ucirepo(id=45)\n",
    "# alternatively: fetch_ucirepo(name='Heart Disease')\n",
    "\n",
    "# access data\n",
    "X = heart_disease.data.features\n",
    "y = heart_disease.data.targets\n",
    "# train model e.g. sklearn.linear_model.LinearRegression().fit(X, y)\n",
    "\n",
    "# access metadata\n",
    "#print(heart_disease.metadata.uci_id)\n",
    "#print(heart_disease.metadata.num_instances)\n",
    "print(heart_disease.metadata.additional_info.summary)\n",
    "\n",
    "# access variable info in tabular format\n",
    "print(heart_disease.variables)"
   ]
  },
  {
   "cell_type": "code",
   "execution_count": 16,
   "id": "68005f1d-6f80-4846-a514-86583cc80f21",
   "metadata": {},
   "outputs": [
    {
     "name": "stdout",
     "output_type": "stream",
     "text": [
      "C:\\Users\\ankit\\anaconda3\\envs\\ApplicationMLModels_PredictHeartDisease\n"
     ]
    }
   ],
   "source": [
    "import os\n",
    "print(os.getcwd())"
   ]
  },
  {
   "cell_type": "code",
   "execution_count": 19,
   "id": "8bc946cb-8c5c-42b0-8c6f-df0d691ac142",
   "metadata": {},
   "outputs": [
    {
     "name": "stdout",
     "output_type": "stream",
     "text": [
      "     0    1    2      3      4    5    6      7    8    9    10   11   12  13\n",
      "0  70.0  1.0  4.0  130.0  322.0  0.0  2.0  109.0  0.0  2.4  2.0  3.0  3.0   2\n",
      "1  67.0  0.0  3.0  115.0  564.0  0.0  2.0  160.0  0.0  1.6  2.0  0.0  7.0   1\n",
      "2  57.0  1.0  2.0  124.0  261.0  0.0  0.0  141.0  0.0  0.3  1.0  0.0  7.0   2\n",
      "3  64.0  1.0  4.0  128.0  263.0  0.0  0.0  105.0  1.0  0.2  2.0  1.0  7.0   1\n",
      "4  74.0  0.0  2.0  120.0  269.0  0.0  2.0  121.0  1.0  0.2  1.0  1.0  3.0   1\n"
     ]
    }
   ],
   "source": [
    "file_path = 'C:\\\\Users\\\\ankit\\\\anaconda3\\\\envs\\\\ApplicationMLModels_PredictHeartDisease\\\\statlog+heart\\\\heart.dat'\n",
    "import pandas as pd\n",
    "\n",
    "# Read .DAT file assuming it's comma-delimited\n",
    "df = pd.read_csv(file_path, delimiter=' ', header=None)\n",
    "print(df.head())"
   ]
  },
  {
   "cell_type": "code",
   "execution_count": 21,
   "id": "69433016-ce9e-485e-bf86-d86ba1a18170",
   "metadata": {},
   "outputs": [
    {
     "name": "stdout",
     "output_type": "stream",
     "text": [
      "    age  sex  chest_pain_type  resting_blood_pressure  \\\n",
      "0  70.0  1.0              4.0                   130.0   \n",
      "1  67.0  0.0              3.0                   115.0   \n",
      "2  57.0  1.0              2.0                   124.0   \n",
      "3  64.0  1.0              4.0                   128.0   \n",
      "4  74.0  0.0              2.0                   120.0   \n",
      "\n",
      "   serum_cholesterol_mg_per_dl  fasting_blood_sugar_gt_120_mg_per_dl  \\\n",
      "0                        322.0                                   0.0   \n",
      "1                        564.0                                   0.0   \n",
      "2                        261.0                                   0.0   \n",
      "3                        263.0                                   0.0   \n",
      "4                        269.0                                   0.0   \n",
      "\n",
      "   resting_ekg_results  max_heart_rate_achieved  exercise_induced_angina  \\\n",
      "0                  2.0                    109.0                      0.0   \n",
      "1                  2.0                    160.0                      0.0   \n",
      "2                  0.0                    141.0                      0.0   \n",
      "3                  0.0                    105.0                      1.0   \n",
      "4                  2.0                    121.0                      1.0   \n",
      "\n",
      "   oldpeak_eq_st_depression  slope_of_peak_exercise_st_segment  \\\n",
      "0                       2.4                                2.0   \n",
      "1                       1.6                                2.0   \n",
      "2                       0.3                                1.0   \n",
      "3                       0.2                                2.0   \n",
      "4                       0.2                                1.0   \n",
      "\n",
      "   num_major_vessels  thal  \n",
      "0                3.0   3.0  \n",
      "1                0.0   7.0  \n",
      "2                0.0   7.0  \n",
      "3                1.0   7.0  \n",
      "4                1.0   3.0  \n"
     ]
    }
   ],
   "source": [
    "from pathlib import Path\n",
    "# Define the base directory dynamically (like home folder)\n",
    "base_dir = Path.home()\n",
    "#print(base_dir)\n",
    "\n",
    "# Build the full file path\n",
    "file_path = base_dir / 'anaconda3' / 'envs' / 'ApplicationMLModels_PredictHeartDisease' / 'statlog+heart' /'heart.dat'\n",
    "#print(file_path)\n",
    "\n",
    "import pandas as pd\n",
    "\n",
    "\n",
    "# Read .DAT file explicitly specifying the columns to read\n",
    "df = pd.read_csv(file_path, delimiter=' ', names=columns, usecols=range(len(columns)))\n",
    "\n",
    "# Add column names after loading the file\n",
    "df.columns = ['age', 'sex', 'chest_pain_type', 'resting_blood_pressure', 'serum_cholesterol_mg_per_dl', 'fasting_blood_sugar_gt_120_mg_per_dl', 'resting_ekg_results',\n",
    "             'max_heart_rate_achieved', 'exercise_induced_angina', 'oldpeak_eq_st_depression', 'slope_of_peak_exercise_st_segment', 'num_major_vessels', \n",
    "             'thal']\n",
    "print(df.head())\n",
    "\n",
    "# Convert to dataframe and add column names\n",
    "#df = pd.DataFrame(data, columns=['Column1', 'Column2', 'Column3'])"
   ]
  },
  {
   "cell_type": "code",
   "execution_count": 26,
   "id": "b6160eba-d994-44e5-8cb6-622016510220",
   "metadata": {},
   "outputs": [
    {
     "name": "stdout",
     "output_type": "stream",
     "text": [
      "      age  sex  chest_pain_type  resting_blood_pressure  \\\n",
      "0    70.0  1.0              4.0                   130.0   \n",
      "1    67.0  0.0              3.0                   115.0   \n",
      "2    57.0  1.0              2.0                   124.0   \n",
      "3    64.0  1.0              4.0                   128.0   \n",
      "4    74.0  0.0              2.0                   120.0   \n",
      "..    ...  ...              ...                     ...   \n",
      "265  52.0  1.0              3.0                   172.0   \n",
      "266  44.0  1.0              2.0                   120.0   \n",
      "267  56.0  0.0              2.0                   140.0   \n",
      "268  57.0  1.0              4.0                   140.0   \n",
      "269  67.0  1.0              4.0                   160.0   \n",
      "\n",
      "     serum_cholesterol_mg_per_dl  fasting_blood_sugar_gt_120_mg_per_dl  \\\n",
      "0                          322.0                                   0.0   \n",
      "1                          564.0                                   0.0   \n",
      "2                          261.0                                   0.0   \n",
      "3                          263.0                                   0.0   \n",
      "4                          269.0                                   0.0   \n",
      "..                           ...                                   ...   \n",
      "265                        199.0                                   1.0   \n",
      "266                        263.0                                   0.0   \n",
      "267                        294.0                                   0.0   \n",
      "268                        192.0                                   0.0   \n",
      "269                        286.0                                   0.0   \n",
      "\n",
      "     resting_ekg_results  max_heart_rate_achieved  exercise_induced_angina  \\\n",
      "0                    2.0                    109.0                      0.0   \n",
      "1                    2.0                    160.0                      0.0   \n",
      "2                    0.0                    141.0                      0.0   \n",
      "3                    0.0                    105.0                      1.0   \n",
      "4                    2.0                    121.0                      1.0   \n",
      "..                   ...                      ...                      ...   \n",
      "265                  0.0                    162.0                      0.0   \n",
      "266                  0.0                    173.0                      0.0   \n",
      "267                  2.0                    153.0                      0.0   \n",
      "268                  0.0                    148.0                      0.0   \n",
      "269                  2.0                    108.0                      1.0   \n",
      "\n",
      "     oldpeak_eq_st_depression  slope_of_peak_exercise_st_segment  \\\n",
      "0                         2.4                                2.0   \n",
      "1                         1.6                                2.0   \n",
      "2                         0.3                                1.0   \n",
      "3                         0.2                                2.0   \n",
      "4                         0.2                                1.0   \n",
      "..                        ...                                ...   \n",
      "265                       0.5                                1.0   \n",
      "266                       0.0                                1.0   \n",
      "267                       1.3                                2.0   \n",
      "268                       0.4                                2.0   \n",
      "269                       1.5                                2.0   \n",
      "\n",
      "     num_major_vessels  thal patient_id  \n",
      "0                  3.0   3.0   034N95xw  \n",
      "1                  0.0   7.0   IBygtBAP  \n",
      "2                  0.0   7.0   zI70cfhM  \n",
      "3                  1.0   7.0   qXkCdEiv  \n",
      "4                  1.0   3.0   IAA2korm  \n",
      "..                 ...   ...        ...  \n",
      "265                0.0   7.0   Lk8vP806  \n",
      "266                0.0   7.0   PrfozjMT  \n",
      "267                0.0   3.0   bM93Z0TI  \n",
      "268                0.0   6.0   0fynE1Qf  \n",
      "269                3.0   3.0   8YHIGf4F  \n",
      "\n",
      "[270 rows x 14 columns]\n"
     ]
    }
   ],
   "source": [
    "import random\n",
    "import string\n",
    "\n",
    "# Function to generate a random alphanumeric string of a given length\n",
    "def generate_random_alphanumeric(length=8):\n",
    "    return ''.join(random.choices(string.ascii_letters + string.digits, k=length))\n",
    "\n",
    "# Add a new column with random alphanumeric values\n",
    "df['patient_id'] = [generate_random_alphanumeric() for _ in range(len(df))]\n",
    "\n",
    "# Display the updated DataFrame\n",
    "print(df)"
   ]
  },
  {
   "cell_type": "code",
   "execution_count": 30,
   "id": "c6c46f90-a9f9-41cf-a79e-3010cfcb32d0",
   "metadata": {},
   "outputs": [
    {
     "name": "stdout",
     "output_type": "stream",
     "text": [
      "    patient_id   age  sex  chest_pain_type  resting_blood_pressure  \\\n",
      "0     034N95xw  70.0  1.0              4.0                   130.0   \n",
      "1     IBygtBAP  67.0  0.0              3.0                   115.0   \n",
      "2     zI70cfhM  57.0  1.0              2.0                   124.0   \n",
      "3     qXkCdEiv  64.0  1.0              4.0                   128.0   \n",
      "4     IAA2korm  74.0  0.0              2.0                   120.0   \n",
      "..         ...   ...  ...              ...                     ...   \n",
      "265   Lk8vP806  52.0  1.0              3.0                   172.0   \n",
      "266   PrfozjMT  44.0  1.0              2.0                   120.0   \n",
      "267   bM93Z0TI  56.0  0.0              2.0                   140.0   \n",
      "268   0fynE1Qf  57.0  1.0              4.0                   140.0   \n",
      "269   8YHIGf4F  67.0  1.0              4.0                   160.0   \n",
      "\n",
      "     serum_cholesterol_mg_per_dl  fasting_blood_sugar_gt_120_mg_per_dl  \\\n",
      "0                          322.0                                   0.0   \n",
      "1                          564.0                                   0.0   \n",
      "2                          261.0                                   0.0   \n",
      "3                          263.0                                   0.0   \n",
      "4                          269.0                                   0.0   \n",
      "..                           ...                                   ...   \n",
      "265                        199.0                                   1.0   \n",
      "266                        263.0                                   0.0   \n",
      "267                        294.0                                   0.0   \n",
      "268                        192.0                                   0.0   \n",
      "269                        286.0                                   0.0   \n",
      "\n",
      "     resting_ekg_results  max_heart_rate_achieved  exercise_induced_angina  \\\n",
      "0                    2.0                    109.0                      0.0   \n",
      "1                    2.0                    160.0                      0.0   \n",
      "2                    0.0                    141.0                      0.0   \n",
      "3                    0.0                    105.0                      1.0   \n",
      "4                    2.0                    121.0                      1.0   \n",
      "..                   ...                      ...                      ...   \n",
      "265                  0.0                    162.0                      0.0   \n",
      "266                  0.0                    173.0                      0.0   \n",
      "267                  2.0                    153.0                      0.0   \n",
      "268                  0.0                    148.0                      0.0   \n",
      "269                  2.0                    108.0                      1.0   \n",
      "\n",
      "     oldpeak_eq_st_depression  slope_of_peak_exercise_st_segment  \\\n",
      "0                         2.4                                2.0   \n",
      "1                         1.6                                2.0   \n",
      "2                         0.3                                1.0   \n",
      "3                         0.2                                2.0   \n",
      "4                         0.2                                1.0   \n",
      "..                        ...                                ...   \n",
      "265                       0.5                                1.0   \n",
      "266                       0.0                                1.0   \n",
      "267                       1.3                                2.0   \n",
      "268                       0.4                                2.0   \n",
      "269                       1.5                                2.0   \n",
      "\n",
      "     num_major_vessels  thal  \n",
      "0                  3.0   3.0  \n",
      "1                  0.0   7.0  \n",
      "2                  0.0   7.0  \n",
      "3                  1.0   7.0  \n",
      "4                  1.0   3.0  \n",
      "..                 ...   ...  \n",
      "265                0.0   7.0  \n",
      "266                0.0   7.0  \n",
      "267                0.0   3.0  \n",
      "268                0.0   6.0  \n",
      "269                3.0   3.0  \n",
      "\n",
      "[270 rows x 14 columns]\n"
     ]
    }
   ],
   "source": [
    "# Move the last column to the front\n",
    "columns = [df.columns[-1]] + list(df.columns[:-1])\n",
    "df = df[columns]\n",
    "print(df)"
   ]
  },
  {
   "cell_type": "code",
   "execution_count": 31,
   "id": "fdb53eb5-e704-4ef9-a3c1-f6fa435633f2",
   "metadata": {},
   "outputs": [
    {
     "name": "stdout",
     "output_type": "stream",
     "text": [
      "<class 'pandas.core.frame.DataFrame'>\n",
      "RangeIndex: 270 entries, 0 to 269\n",
      "Data columns (total 14 columns):\n",
      " #   Column                                Non-Null Count  Dtype  \n",
      "---  ------                                --------------  -----  \n",
      " 0   patient_id                            270 non-null    object \n",
      " 1   age                                   270 non-null    float64\n",
      " 2   sex                                   270 non-null    float64\n",
      " 3   chest_pain_type                       270 non-null    float64\n",
      " 4   resting_blood_pressure                270 non-null    float64\n",
      " 5   serum_cholesterol_mg_per_dl           270 non-null    float64\n",
      " 6   fasting_blood_sugar_gt_120_mg_per_dl  270 non-null    float64\n",
      " 7   resting_ekg_results                   270 non-null    float64\n",
      " 8   max_heart_rate_achieved               270 non-null    float64\n",
      " 9   exercise_induced_angina               270 non-null    float64\n",
      " 10  oldpeak_eq_st_depression              270 non-null    float64\n",
      " 11  slope_of_peak_exercise_st_segment     270 non-null    float64\n",
      " 12  num_major_vessels                     270 non-null    float64\n",
      " 13  thal                                  270 non-null    float64\n",
      "dtypes: float64(13), object(1)\n",
      "memory usage: 29.7+ KB\n"
     ]
    }
   ],
   "source": [
    "df.info()"
   ]
  },
  {
   "cell_type": "code",
   "execution_count": 32,
   "id": "63270a56-9c0b-4601-b27c-9ec56daad213",
   "metadata": {},
   "outputs": [],
   "source": [
    "df.to_csv('heart_data.csv', index=False)"
   ]
  },
  {
   "cell_type": "code",
   "execution_count": null,
   "id": "4efcef26-4577-454d-bcd6-f76fcaf7aef9",
   "metadata": {},
   "outputs": [],
   "source": []
  }
 ],
 "metadata": {
  "kernelspec": {
   "display_name": "Python 3 (ipykernel)",
   "language": "python",
   "name": "python3"
  },
  "language_info": {
   "codemirror_mode": {
    "name": "ipython",
    "version": 3
   },
   "file_extension": ".py",
   "mimetype": "text/x-python",
   "name": "python",
   "nbconvert_exporter": "python",
   "pygments_lexer": "ipython3",
   "version": "3.11.9"
  }
 },
 "nbformat": 4,
 "nbformat_minor": 5
}
