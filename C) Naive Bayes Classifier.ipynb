{
 "cells": [
  {
   "cell_type": "markdown",
   "metadata": {},
   "source": [
    "## Import Libraries"
   ]
  },
  {
   "cell_type": "code",
   "execution_count": 17,
   "metadata": {},
   "outputs": [],
   "source": [
    "import pandas as pd\n",
    "import numpy as np\n",
    "import matplotlib.pyplot as plt\n",
    "import time\n",
    "from sklearn.model_selection import train_test_split\n",
    "from sklearn.naive_bayes import GaussianNB, BernoulliNB, MultinomialNB"
   ]
  },
  {
   "cell_type": "code",
   "execution_count": 18,
   "metadata": {},
   "outputs": [
    {
     "data": {
      "text/html": [
       "<div>\n",
       "<style scoped>\n",
       "    .dataframe tbody tr th:only-of-type {\n",
       "        vertical-align: middle;\n",
       "    }\n",
       "\n",
       "    .dataframe tbody tr th {\n",
       "        vertical-align: top;\n",
       "    }\n",
       "\n",
       "    .dataframe thead th {\n",
       "        text-align: right;\n",
       "    }\n",
       "</style>\n",
       "<table border=\"1\" class=\"dataframe\">\n",
       "  <thead>\n",
       "    <tr style=\"text-align: right;\">\n",
       "      <th></th>\n",
       "      <th>patient_id</th>\n",
       "      <th>heart_disease_present</th>\n",
       "      <th>age</th>\n",
       "      <th>sex</th>\n",
       "      <th>chest_pain_type</th>\n",
       "      <th>resting_blood_pressure</th>\n",
       "      <th>serum_cholesterol_mg_per_dl</th>\n",
       "      <th>fasting_blood_sugar_gt_120_mg_per_dl</th>\n",
       "      <th>resting_ekg_results</th>\n",
       "      <th>max_heart_rate_achieved</th>\n",
       "      <th>exercise_induced_angina</th>\n",
       "      <th>oldpeak_eq_st_depression</th>\n",
       "      <th>slope_of_peak_exercise_st_segment</th>\n",
       "      <th>num_major_vessels</th>\n",
       "      <th>thal</th>\n",
       "    </tr>\n",
       "  </thead>\n",
       "  <tbody>\n",
       "    <tr>\n",
       "      <th>0</th>\n",
       "      <td>034N95xw</td>\n",
       "      <td>1</td>\n",
       "      <td>70</td>\n",
       "      <td>1</td>\n",
       "      <td>4</td>\n",
       "      <td>130</td>\n",
       "      <td>322</td>\n",
       "      <td>0</td>\n",
       "      <td>2</td>\n",
       "      <td>109</td>\n",
       "      <td>0</td>\n",
       "      <td>2.4</td>\n",
       "      <td>2</td>\n",
       "      <td>3</td>\n",
       "      <td>3</td>\n",
       "    </tr>\n",
       "    <tr>\n",
       "      <th>1</th>\n",
       "      <td>IBygtBAP</td>\n",
       "      <td>0</td>\n",
       "      <td>67</td>\n",
       "      <td>0</td>\n",
       "      <td>3</td>\n",
       "      <td>115</td>\n",
       "      <td>564</td>\n",
       "      <td>0</td>\n",
       "      <td>2</td>\n",
       "      <td>160</td>\n",
       "      <td>0</td>\n",
       "      <td>1.6</td>\n",
       "      <td>2</td>\n",
       "      <td>0</td>\n",
       "      <td>7</td>\n",
       "    </tr>\n",
       "    <tr>\n",
       "      <th>2</th>\n",
       "      <td>zI70cfhM</td>\n",
       "      <td>1</td>\n",
       "      <td>57</td>\n",
       "      <td>1</td>\n",
       "      <td>2</td>\n",
       "      <td>124</td>\n",
       "      <td>261</td>\n",
       "      <td>0</td>\n",
       "      <td>0</td>\n",
       "      <td>141</td>\n",
       "      <td>0</td>\n",
       "      <td>0.3</td>\n",
       "      <td>1</td>\n",
       "      <td>0</td>\n",
       "      <td>7</td>\n",
       "    </tr>\n",
       "    <tr>\n",
       "      <th>3</th>\n",
       "      <td>qXkCdEiv</td>\n",
       "      <td>0</td>\n",
       "      <td>64</td>\n",
       "      <td>1</td>\n",
       "      <td>4</td>\n",
       "      <td>128</td>\n",
       "      <td>263</td>\n",
       "      <td>0</td>\n",
       "      <td>0</td>\n",
       "      <td>105</td>\n",
       "      <td>1</td>\n",
       "      <td>0.2</td>\n",
       "      <td>2</td>\n",
       "      <td>1</td>\n",
       "      <td>7</td>\n",
       "    </tr>\n",
       "    <tr>\n",
       "      <th>4</th>\n",
       "      <td>IAA2korm</td>\n",
       "      <td>0</td>\n",
       "      <td>74</td>\n",
       "      <td>0</td>\n",
       "      <td>2</td>\n",
       "      <td>120</td>\n",
       "      <td>269</td>\n",
       "      <td>0</td>\n",
       "      <td>2</td>\n",
       "      <td>121</td>\n",
       "      <td>1</td>\n",
       "      <td>0.2</td>\n",
       "      <td>1</td>\n",
       "      <td>1</td>\n",
       "      <td>3</td>\n",
       "    </tr>\n",
       "  </tbody>\n",
       "</table>\n",
       "</div>"
      ],
      "text/plain": [
       "  patient_id  heart_disease_present  age  sex  chest_pain_type  \\\n",
       "0   034N95xw                      1   70    1                4   \n",
       "1   IBygtBAP                      0   67    0                3   \n",
       "2   zI70cfhM                      1   57    1                2   \n",
       "3   qXkCdEiv                      0   64    1                4   \n",
       "4   IAA2korm                      0   74    0                2   \n",
       "\n",
       "   resting_blood_pressure  serum_cholesterol_mg_per_dl  \\\n",
       "0                     130                          322   \n",
       "1                     115                          564   \n",
       "2                     124                          261   \n",
       "3                     128                          263   \n",
       "4                     120                          269   \n",
       "\n",
       "   fasting_blood_sugar_gt_120_mg_per_dl  resting_ekg_results  \\\n",
       "0                                     0                    2   \n",
       "1                                     0                    2   \n",
       "2                                     0                    0   \n",
       "3                                     0                    0   \n",
       "4                                     0                    2   \n",
       "\n",
       "   max_heart_rate_achieved  exercise_induced_angina  oldpeak_eq_st_depression  \\\n",
       "0                      109                        0                       2.4   \n",
       "1                      160                        0                       1.6   \n",
       "2                      141                        0                       0.3   \n",
       "3                      105                        1                       0.2   \n",
       "4                      121                        1                       0.2   \n",
       "\n",
       "   slope_of_peak_exercise_st_segment  num_major_vessels  thal  \n",
       "0                                  2                  3     3  \n",
       "1                                  2                  0     7  \n",
       "2                                  1                  0     7  \n",
       "3                                  2                  1     7  \n",
       "4                                  1                  1     3  "
      ]
     },
     "execution_count": 18,
     "metadata": {},
     "output_type": "execute_result"
    }
   ],
   "source": [
    "# Reading Training Data\n",
    "from pathlib import Path\n",
    "# Define the base directory dynamically (like home folder)\n",
    "base_dir = Path.home()\n",
    "\n",
    "# Build the full file path\n",
    "file_path = base_dir / 'anaconda3' / 'envs' / 'ApplicationMLModels_PredictHeartDisease' / 'statlog+heart' /'heart_data.csv'\n",
    "#print(file_path)\n",
    "#file_name = 'heart_data.csv'\n",
    "#complete_filepath = file_path / file_name\n",
    "#filepath = complete_filepath.resolve()\n",
    "\n",
    "# Brief overview of Dataset\n",
    "heart_df = pd.read_csv(file_path)\n",
    "heart_df.head()"
   ]
  },
  {
   "cell_type": "code",
   "execution_count": 10,
   "metadata": {},
   "outputs": [],
   "source": [
    "## Convert Categorical Variable to Numeric Variable\n",
    "# heart_df[\"thal_cleaned\"]=np.where(heart_df[\"thal\"]==\"normal\",0,\n",
    "#                                   np.where(heart_df[\"thal\"]==\"fixed_defect\",1,\n",
    "#                                            np.where(heart_df[\"thal\"]==\"reversible_defect\",2,3)\n",
    "#                                           )\n",
    "#                                  )"
   ]
  },
  {
   "cell_type": "code",
   "execution_count": 10,
   "metadata": {},
   "outputs": [],
   "source": [
    "# ## Convert Categorical Variable to Numeric Variable\n",
    "# heart_df[\"thal_cleaned\"]=np.where(heart_df[\"thal\"]==\"normal\",0,\n",
    "#                                   np.where(heart_df[\"thal\"]==\"fixed_defect\",1,\n",
    "#                                            np.where(heart_df[\"thal\"]==\"reversible_defect\",2,3)\n",
    "#                                           )\n",
    "#                                  )"
   ]
  },
  {
   "cell_type": "code",
   "execution_count": 19,
   "metadata": {},
   "outputs": [
    {
     "data": {
      "text/html": [
       "<div>\n",
       "<style scoped>\n",
       "    .dataframe tbody tr th:only-of-type {\n",
       "        vertical-align: middle;\n",
       "    }\n",
       "\n",
       "    .dataframe tbody tr th {\n",
       "        vertical-align: top;\n",
       "    }\n",
       "\n",
       "    .dataframe thead th {\n",
       "        text-align: right;\n",
       "    }\n",
       "</style>\n",
       "<table border=\"1\" class=\"dataframe\">\n",
       "  <thead>\n",
       "    <tr style=\"text-align: right;\">\n",
       "      <th></th>\n",
       "      <th>patient_id</th>\n",
       "      <th>heart_disease_present</th>\n",
       "      <th>age</th>\n",
       "      <th>sex</th>\n",
       "      <th>chest_pain_type</th>\n",
       "      <th>resting_blood_pressure</th>\n",
       "      <th>serum_cholesterol_mg_per_dl</th>\n",
       "      <th>fasting_blood_sugar_gt_120_mg_per_dl</th>\n",
       "      <th>resting_ekg_results</th>\n",
       "      <th>max_heart_rate_achieved</th>\n",
       "      <th>exercise_induced_angina</th>\n",
       "      <th>oldpeak_eq_st_depression</th>\n",
       "      <th>slope_of_peak_exercise_st_segment</th>\n",
       "      <th>num_major_vessels</th>\n",
       "      <th>thal</th>\n",
       "    </tr>\n",
       "  </thead>\n",
       "  <tbody>\n",
       "    <tr>\n",
       "      <th>0</th>\n",
       "      <td>034N95xw</td>\n",
       "      <td>1</td>\n",
       "      <td>70</td>\n",
       "      <td>1</td>\n",
       "      <td>4</td>\n",
       "      <td>130</td>\n",
       "      <td>322</td>\n",
       "      <td>0</td>\n",
       "      <td>2</td>\n",
       "      <td>109</td>\n",
       "      <td>0</td>\n",
       "      <td>2.4</td>\n",
       "      <td>2</td>\n",
       "      <td>3</td>\n",
       "      <td>3</td>\n",
       "    </tr>\n",
       "    <tr>\n",
       "      <th>1</th>\n",
       "      <td>IBygtBAP</td>\n",
       "      <td>0</td>\n",
       "      <td>67</td>\n",
       "      <td>0</td>\n",
       "      <td>3</td>\n",
       "      <td>115</td>\n",
       "      <td>564</td>\n",
       "      <td>0</td>\n",
       "      <td>2</td>\n",
       "      <td>160</td>\n",
       "      <td>0</td>\n",
       "      <td>1.6</td>\n",
       "      <td>2</td>\n",
       "      <td>0</td>\n",
       "      <td>7</td>\n",
       "    </tr>\n",
       "    <tr>\n",
       "      <th>2</th>\n",
       "      <td>zI70cfhM</td>\n",
       "      <td>1</td>\n",
       "      <td>57</td>\n",
       "      <td>1</td>\n",
       "      <td>2</td>\n",
       "      <td>124</td>\n",
       "      <td>261</td>\n",
       "      <td>0</td>\n",
       "      <td>0</td>\n",
       "      <td>141</td>\n",
       "      <td>0</td>\n",
       "      <td>0.3</td>\n",
       "      <td>1</td>\n",
       "      <td>0</td>\n",
       "      <td>7</td>\n",
       "    </tr>\n",
       "    <tr>\n",
       "      <th>3</th>\n",
       "      <td>qXkCdEiv</td>\n",
       "      <td>0</td>\n",
       "      <td>64</td>\n",
       "      <td>1</td>\n",
       "      <td>4</td>\n",
       "      <td>128</td>\n",
       "      <td>263</td>\n",
       "      <td>0</td>\n",
       "      <td>0</td>\n",
       "      <td>105</td>\n",
       "      <td>1</td>\n",
       "      <td>0.2</td>\n",
       "      <td>2</td>\n",
       "      <td>1</td>\n",
       "      <td>7</td>\n",
       "    </tr>\n",
       "    <tr>\n",
       "      <th>4</th>\n",
       "      <td>IAA2korm</td>\n",
       "      <td>0</td>\n",
       "      <td>74</td>\n",
       "      <td>0</td>\n",
       "      <td>2</td>\n",
       "      <td>120</td>\n",
       "      <td>269</td>\n",
       "      <td>0</td>\n",
       "      <td>2</td>\n",
       "      <td>121</td>\n",
       "      <td>1</td>\n",
       "      <td>0.2</td>\n",
       "      <td>1</td>\n",
       "      <td>1</td>\n",
       "      <td>3</td>\n",
       "    </tr>\n",
       "    <tr>\n",
       "      <th>5</th>\n",
       "      <td>wt61iIew</td>\n",
       "      <td>0</td>\n",
       "      <td>65</td>\n",
       "      <td>1</td>\n",
       "      <td>4</td>\n",
       "      <td>120</td>\n",
       "      <td>177</td>\n",
       "      <td>0</td>\n",
       "      <td>0</td>\n",
       "      <td>140</td>\n",
       "      <td>0</td>\n",
       "      <td>0.4</td>\n",
       "      <td>1</td>\n",
       "      <td>0</td>\n",
       "      <td>7</td>\n",
       "    </tr>\n",
       "    <tr>\n",
       "      <th>6</th>\n",
       "      <td>7oqPbDvS</td>\n",
       "      <td>1</td>\n",
       "      <td>56</td>\n",
       "      <td>1</td>\n",
       "      <td>3</td>\n",
       "      <td>130</td>\n",
       "      <td>256</td>\n",
       "      <td>1</td>\n",
       "      <td>2</td>\n",
       "      <td>142</td>\n",
       "      <td>1</td>\n",
       "      <td>0.6</td>\n",
       "      <td>2</td>\n",
       "      <td>1</td>\n",
       "      <td>6</td>\n",
       "    </tr>\n",
       "    <tr>\n",
       "      <th>7</th>\n",
       "      <td>hIkX99pK</td>\n",
       "      <td>1</td>\n",
       "      <td>59</td>\n",
       "      <td>1</td>\n",
       "      <td>4</td>\n",
       "      <td>110</td>\n",
       "      <td>239</td>\n",
       "      <td>0</td>\n",
       "      <td>2</td>\n",
       "      <td>142</td>\n",
       "      <td>1</td>\n",
       "      <td>1.2</td>\n",
       "      <td>2</td>\n",
       "      <td>1</td>\n",
       "      <td>7</td>\n",
       "    </tr>\n",
       "    <tr>\n",
       "      <th>8</th>\n",
       "      <td>7XMzPFlJ</td>\n",
       "      <td>1</td>\n",
       "      <td>60</td>\n",
       "      <td>1</td>\n",
       "      <td>4</td>\n",
       "      <td>140</td>\n",
       "      <td>293</td>\n",
       "      <td>0</td>\n",
       "      <td>2</td>\n",
       "      <td>170</td>\n",
       "      <td>0</td>\n",
       "      <td>1.2</td>\n",
       "      <td>2</td>\n",
       "      <td>2</td>\n",
       "      <td>7</td>\n",
       "    </tr>\n",
       "    <tr>\n",
       "      <th>9</th>\n",
       "      <td>6D0n0pcM</td>\n",
       "      <td>1</td>\n",
       "      <td>63</td>\n",
       "      <td>0</td>\n",
       "      <td>4</td>\n",
       "      <td>150</td>\n",
       "      <td>407</td>\n",
       "      <td>0</td>\n",
       "      <td>2</td>\n",
       "      <td>154</td>\n",
       "      <td>0</td>\n",
       "      <td>4.0</td>\n",
       "      <td>2</td>\n",
       "      <td>3</td>\n",
       "      <td>7</td>\n",
       "    </tr>\n",
       "  </tbody>\n",
       "</table>\n",
       "</div>"
      ],
      "text/plain": [
       "  patient_id  heart_disease_present  age  sex  chest_pain_type  \\\n",
       "0   034N95xw                      1   70    1                4   \n",
       "1   IBygtBAP                      0   67    0                3   \n",
       "2   zI70cfhM                      1   57    1                2   \n",
       "3   qXkCdEiv                      0   64    1                4   \n",
       "4   IAA2korm                      0   74    0                2   \n",
       "5   wt61iIew                      0   65    1                4   \n",
       "6   7oqPbDvS                      1   56    1                3   \n",
       "7   hIkX99pK                      1   59    1                4   \n",
       "8   7XMzPFlJ                      1   60    1                4   \n",
       "9   6D0n0pcM                      1   63    0                4   \n",
       "\n",
       "   resting_blood_pressure  serum_cholesterol_mg_per_dl  \\\n",
       "0                     130                          322   \n",
       "1                     115                          564   \n",
       "2                     124                          261   \n",
       "3                     128                          263   \n",
       "4                     120                          269   \n",
       "5                     120                          177   \n",
       "6                     130                          256   \n",
       "7                     110                          239   \n",
       "8                     140                          293   \n",
       "9                     150                          407   \n",
       "\n",
       "   fasting_blood_sugar_gt_120_mg_per_dl  resting_ekg_results  \\\n",
       "0                                     0                    2   \n",
       "1                                     0                    2   \n",
       "2                                     0                    0   \n",
       "3                                     0                    0   \n",
       "4                                     0                    2   \n",
       "5                                     0                    0   \n",
       "6                                     1                    2   \n",
       "7                                     0                    2   \n",
       "8                                     0                    2   \n",
       "9                                     0                    2   \n",
       "\n",
       "   max_heart_rate_achieved  exercise_induced_angina  oldpeak_eq_st_depression  \\\n",
       "0                      109                        0                       2.4   \n",
       "1                      160                        0                       1.6   \n",
       "2                      141                        0                       0.3   \n",
       "3                      105                        1                       0.2   \n",
       "4                      121                        1                       0.2   \n",
       "5                      140                        0                       0.4   \n",
       "6                      142                        1                       0.6   \n",
       "7                      142                        1                       1.2   \n",
       "8                      170                        0                       1.2   \n",
       "9                      154                        0                       4.0   \n",
       "\n",
       "   slope_of_peak_exercise_st_segment  num_major_vessels  thal  \n",
       "0                                  2                  3     3  \n",
       "1                                  2                  0     7  \n",
       "2                                  1                  0     7  \n",
       "3                                  2                  1     7  \n",
       "4                                  1                  1     3  \n",
       "5                                  1                  0     7  \n",
       "6                                  2                  1     6  \n",
       "7                                  2                  1     7  \n",
       "8                                  2                  2     7  \n",
       "9                                  2                  3     7  "
      ]
     },
     "execution_count": 19,
     "metadata": {},
     "output_type": "execute_result"
    }
   ],
   "source": [
    "heart_df.head(10)"
   ]
  },
  {
   "cell_type": "code",
   "execution_count": 20,
   "metadata": {},
   "outputs": [],
   "source": [
    "# Split dataset in training and test datasets\n",
    "X_train, X_test = train_test_split(heart_df, test_size=0.2, random_state=int(time.time()))"
   ]
  },
  {
   "cell_type": "code",
   "execution_count": 22,
   "metadata": {},
   "outputs": [
    {
     "name": "stdout",
     "output_type": "stream",
     "text": [
      "Number of mislabeled points out of a total 54 points : 8, performance 85.19%\n"
     ]
    }
   ],
   "source": [
    "# Instantiate the classifier\n",
    "gnb = GaussianNB()\n",
    "used_features =[\n",
    "    \"slope_of_peak_exercise_st_segment\",\n",
    "    \"thal\",\n",
    "    \"resting_blood_pressure\",\n",
    "    \"chest_pain_type\",\n",
    "    \"num_major_vessels\",\n",
    "    \"fasting_blood_sugar_gt_120_mg_per_dl\",\n",
    "    \"resting_ekg_results\",\n",
    "    \"serum_cholesterol_mg_per_dl\",\n",
    "    \"oldpeak_eq_st_depression\",\n",
    "    \"sex\",\n",
    "    \"age\",\n",
    "    \"max_heart_rate_achieved\",\n",
    "    \"exercise_induced_angina\"\n",
    "]\n",
    "\n",
    "# Train classifier\n",
    "gnb.fit(\n",
    "    X_train[used_features].values,\n",
    "    X_train[\"heart_disease_present\"]\n",
    ")\n",
    "y_pred = gnb.predict(X_test[used_features].values)    \n",
    "\n",
    "# Print results\n",
    "print(\"Number of mislabeled points out of a total {} points : {}, performance {:05.2f}%\"\n",
    "      .format(\n",
    "          X_test.shape[0],\n",
    "          (X_test[\"heart_disease_present\"] != y_pred).sum(),\n",
    "          100*(1-(X_test[\"heart_disease_present\"] != y_pred).sum()/X_test.shape[0])\n",
    "))"
   ]
  },
  {
   "cell_type": "markdown",
   "metadata": {},
   "source": [
    "As, we can see that the performance of our Classifier has increased this time to **85.19%** as compared to the previous Model of Logistic Regression."
   ]
  },
  {
   "cell_type": "code",
   "execution_count": 23,
   "metadata": {},
   "outputs": [
    {
     "name": "stdout",
     "output_type": "stream",
     "text": [
      "Heart Disease Presence prob = 46.30%, Heart Disease Absent prob = 53.70%\n"
     ]
    }
   ],
   "source": [
    "# Probability of Presence of Heart Disease and Probability of Absence of Heart Disease\n",
    "mean_heart_disease_present=np.mean(X_train[\"heart_disease_present\"])\n",
    "mean_not_heart_disease_present=1-mean_heart_disease_present\n",
    "print(\"Heart Disease Presence prob = {:03.2f}%, Heart Disease Absent prob = {:03.2f}%\"\n",
    "      .format(100*mean_heart_disease_present,100*mean_not_heart_disease_present))"
   ]
  },
  {
   "cell_type": "markdown",
   "metadata": {},
   "source": [
    "## Impact of Maximum Heart Rate Achieved on Presence & Absence of Heart Disease"
   ]
  },
  {
   "cell_type": "code",
   "execution_count": 24,
   "metadata": {},
   "outputs": [
    {
     "name": "stdout",
     "output_type": "stream",
     "text": [
      "mean_max_heart_rate_heart_disease_present = 139.69\n",
      "std_max_heart_rate_heart_disease_present = 22.99\n",
      "mean_max_heart_rate_not_heart_disease_present = 158.62\n",
      "std_max_heart_rate_not_heart_disease_present = 19.03\n"
     ]
    }
   ],
   "source": [
    "# Mean and Standard Deviation of Heart Disease for Different Values of Maximum Heart Rate\n",
    "\n",
    "mean_max_heart_rate_heart_disease_present = np.mean(X_train[X_train[\"heart_disease_present\"]==1][\"max_heart_rate_achieved\"])\n",
    "std_max_heart_rate_heart_disease_present = np.std(X_train[X_train[\"heart_disease_present\"]==1][\"max_heart_rate_achieved\"])\n",
    "mean_max_heart_rate_not_heart_disease_present = np.mean(X_train[X_train[\"heart_disease_present\"]==0][\"max_heart_rate_achieved\"])\n",
    "std_max_heart_rate_not_heart_disease_present = np.std(X_train[X_train[\"heart_disease_present\"]==0][\"max_heart_rate_achieved\"])\n",
    "\n",
    "print(\"mean_max_heart_rate_heart_disease_present = {:03.2f}\".format(mean_max_heart_rate_heart_disease_present))\n",
    "print(\"std_max_heart_rate_heart_disease_present = {:03.2f}\".format(std_max_heart_rate_heart_disease_present))\n",
    "print(\"mean_max_heart_rate_not_heart_disease_present = {:03.2f}\".format(mean_max_heart_rate_not_heart_disease_present))\n",
    "print(\"std_max_heart_rate_not_heart_disease_present = {:03.2f}\".format(std_max_heart_rate_not_heart_disease_present))\n"
   ]
  },
  {
   "cell_type": "markdown",
   "metadata": {},
   "source": [
    "So, seems like the maximum heart rate achieved during any physical stress test seems to be on the lower side for the patient with the probability of heart disease present. On the other hand patient with a healthy heart and with lower risk of presence of heart disease has a higher maximum heart rate achieved during any physical exercise or physical stress test."
   ]
  },
  {
   "cell_type": "markdown",
   "metadata": {},
   "source": [
    "## Model's Performance with Impact of Maximum Heart Rate Achieved"
   ]
  },
  {
   "cell_type": "code",
   "execution_count": 25,
   "metadata": {},
   "outputs": [
    {
     "name": "stdout",
     "output_type": "stream",
     "text": [
      "Number of mislabeled points out of a total 54 points : 14, performance 74.07%\n"
     ]
    }
   ],
   "source": [
    "from sklearn.naive_bayes import GaussianNB\n",
    "import warnings\n",
    "warnings.filterwarnings(\"ignore\", category=FutureWarning)\n",
    "gnb = GaussianNB()\n",
    "used_features =[\"max_heart_rate_achieved\"]\n",
    "y_pred = gnb.fit(X_train[used_features].values, X_train[\"heart_disease_present\"]).predict(X_test[used_features].values)\n",
    "print(\"Number of mislabeled points out of a total {} points : {}, performance {:05.2f}%\"\n",
    "      .format(\n",
    "          X_test.shape[0],\n",
    "          (X_test[\"heart_disease_present\"] != y_pred).sum(),\n",
    "          100*(1-(X_test[\"heart_disease_present\"] != y_pred).sum()/X_test.shape[0])\n",
    "))"
   ]
  },
  {
   "cell_type": "markdown",
   "metadata": {},
   "source": [
    "## Impact of Resting Blood Pressure on Presence & Absence of Heart Disease"
   ]
  },
  {
   "cell_type": "code",
   "execution_count": 26,
   "metadata": {},
   "outputs": [
    {
     "name": "stdout",
     "output_type": "stream",
     "text": [
      "mean_resting_blood_pressure_heart_disease_present = 134.07\n",
      "std_resting_blood_pressure_heart_disease_present = 19.64\n",
      "mean_resting_blood_pressure_not_heart_disease_present = 128.70\n",
      "std_resting_blood_pressure_not_heart_disease_present = 16.38\n"
     ]
    }
   ],
   "source": [
    "# Mean and Standard Deviation of Heart Disease for Different Values of Resting Blood Pressure\n",
    "\n",
    "mean_resting_blood_pressure_heart_disease_present = np.mean(X_train[X_train[\"heart_disease_present\"]==1][\"resting_blood_pressure\"])\n",
    "std_resting_blood_pressure_heart_disease_present = np.std(X_train[X_train[\"heart_disease_present\"]==1][\"resting_blood_pressure\"])\n",
    "mean_resting_blood_pressure_not_heart_disease_present = np.mean(X_train[X_train[\"heart_disease_present\"]==0][\"resting_blood_pressure\"])\n",
    "std_resting_blood_pressure_not_heart_disease_present = np.std(X_train[X_train[\"heart_disease_present\"]==0][\"resting_blood_pressure\"])\n",
    "\n",
    "print(\"mean_resting_blood_pressure_heart_disease_present = {:03.2f}\".format(mean_resting_blood_pressure_heart_disease_present))\n",
    "print(\"std_resting_blood_pressure_heart_disease_present = {:03.2f}\".format(std_resting_blood_pressure_heart_disease_present))\n",
    "print(\"mean_resting_blood_pressure_not_heart_disease_present = {:03.2f}\".format(mean_resting_blood_pressure_not_heart_disease_present))\n",
    "print(\"std_resting_blood_pressure_not_heart_disease_present = {:03.2f}\".format(std_resting_blood_pressure_not_heart_disease_present))"
   ]
  },
  {
   "cell_type": "markdown",
   "metadata": {},
   "source": [
    "So, for obvious reason it seems like the mean of the resting BP for patient with heart disease is on the higher side than the mean of the resting blood pressure for patient with less resting blood pressure.  "
   ]
  },
  {
   "cell_type": "markdown",
   "metadata": {},
   "source": [
    "## Model's Performance with Impact of Resting Blood Pressure"
   ]
  },
  {
   "cell_type": "code",
   "execution_count": 27,
   "metadata": {},
   "outputs": [
    {
     "name": "stdout",
     "output_type": "stream",
     "text": [
      "Number of mislabeled points out of a total 54 points : 20, performance 62.96%\n"
     ]
    }
   ],
   "source": [
    "from sklearn.naive_bayes import GaussianNB\n",
    "gnb = GaussianNB()\n",
    "used_features =[\"resting_blood_pressure\"]\n",
    "y_pred = gnb.fit(X_train[used_features].values, X_train[\"heart_disease_present\"]).predict(X_test[used_features].values)\n",
    "print(\"Number of mislabeled points out of a total {} points : {}, performance {:05.2f}%\"\n",
    "      .format(\n",
    "          X_test.shape[0],\n",
    "          (X_test[\"heart_disease_present\"] != y_pred).sum(),\n",
    "          100*(1-(X_test[\"heart_disease_present\"] != y_pred).sum()/X_test.shape[0])\n",
    "))"
   ]
  },
  {
   "cell_type": "markdown",
   "metadata": {},
   "source": [
    "## Impact of Blood Cholesterol on Presence & Absence of Heart Disease"
   ]
  },
  {
   "cell_type": "code",
   "execution_count": 28,
   "metadata": {},
   "outputs": [
    {
     "name": "stdout",
     "output_type": "stream",
     "text": [
      "mean_cholesterol_heart_disease_present = 252.13\n",
      "std_cholesterol_heart_disease_present = 43.33\n",
      "mean_cholesterol_not_heart_disease_present = 245.33\n",
      "std_cholesterol_not_heart_disease_present = 57.06\n"
     ]
    }
   ],
   "source": [
    "# Mean and Standard Deviation of Heart Disease for Different Values of Maximum Heart Rate\n",
    "\n",
    "mean_cholesterol_heart_disease_present = np.mean(X_train[X_train[\"heart_disease_present\"]==1][\"serum_cholesterol_mg_per_dl\"])\n",
    "std_cholesterol_heart_disease_present = np.std(X_train[X_train[\"heart_disease_present\"]==1][\"serum_cholesterol_mg_per_dl\"])\n",
    "mean_cholesterol_not_heart_disease_present = np.mean(X_train[X_train[\"heart_disease_present\"]==0][\"serum_cholesterol_mg_per_dl\"])\n",
    "std_cholesterol_not_heart_disease_present = np.std(X_train[X_train[\"heart_disease_present\"]==0][\"serum_cholesterol_mg_per_dl\"])\n",
    "\n",
    "print(\"mean_cholesterol_heart_disease_present = {:03.2f}\".format(mean_cholesterol_heart_disease_present))\n",
    "print(\"std_cholesterol_heart_disease_present = {:03.2f}\".format(std_cholesterol_heart_disease_present))\n",
    "print(\"mean_cholesterol_not_heart_disease_present = {:03.2f}\".format(mean_cholesterol_not_heart_disease_present))\n",
    "print(\"std_cholesterol_not_heart_disease_present = {:03.2f}\".format(std_cholesterol_not_heart_disease_present))"
   ]
  },
  {
   "cell_type": "markdown",
   "metadata": {},
   "source": [
    "Okay, so for obvious reason the presence of heart disease inceases with the increase in the mean of the cholesterol present in blood. "
   ]
  },
  {
   "cell_type": "markdown",
   "metadata": {},
   "source": [
    "## Model's Performance with Impact of Blood Cholesterol"
   ]
  },
  {
   "cell_type": "code",
   "execution_count": 29,
   "metadata": {},
   "outputs": [
    {
     "name": "stdout",
     "output_type": "stream",
     "text": [
      "Number of mislabeled points out of a total 54 points : 29, performance 46.30%\n"
     ]
    }
   ],
   "source": [
    "from sklearn.naive_bayes import GaussianNB\n",
    "gnb = GaussianNB()\n",
    "used_features =[\"serum_cholesterol_mg_per_dl\"]\n",
    "y_pred = gnb.fit(X_train[used_features].values, X_train[\"heart_disease_present\"]).predict(X_test[used_features].values)\n",
    "print(\"Number of mislabeled points out of a total {} points : {}, performance {:05.2f}%\"\n",
    "      .format(\n",
    "          X_test.shape[0],\n",
    "          (X_test[\"heart_disease_present\"] != y_pred).sum(),\n",
    "          100*(1-(X_test[\"heart_disease_present\"] != y_pred).sum()/X_test.shape[0])\n",
    "))"
   ]
  },
  {
   "cell_type": "markdown",
   "metadata": {},
   "source": [
    "It seems that the Model's performance was at it's best when the used feature is Maximum Heart Rate Acheieved during a physical stress test for patient to be classified as Patient with Heart Disease and Patient without Heart Disease."
   ]
  }
 ],
 "metadata": {
  "kernelspec": {
   "display_name": "Python 3 (ipykernel)",
   "language": "python",
   "name": "python3"
  },
  "language_info": {
   "codemirror_mode": {
    "name": "ipython",
    "version": 3
   },
   "file_extension": ".py",
   "mimetype": "text/x-python",
   "name": "python",
   "nbconvert_exporter": "python",
   "pygments_lexer": "ipython3",
   "version": "3.11.9"
  }
 },
 "nbformat": 4,
 "nbformat_minor": 4
}
