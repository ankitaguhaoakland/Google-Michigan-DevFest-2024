{
 "cells": [
  {
   "cell_type": "code",
   "execution_count": 4,
   "id": "072b880b-09b9-48ea-99d7-a1a48e43a7fe",
   "metadata": {},
   "outputs": [],
   "source": [
    "import os\n",
    "from pathlib import Path\n",
    "# Define the base directory dynamically (like home folder)\n",
    "base_dir = Path.home()\n",
    "\n",
    "# Step 1: Navigate to your project directory\n",
    "os.chdir(base_dir / 'anaconda3' / 'envs' / 'ApplicationMLModels_PredictHeartDisease')"
   ]
  },
  {
   "cell_type": "code",
   "execution_count": null,
   "id": "b6123327-8ed2-4260-8292-9511f012834c",
   "metadata": {},
   "outputs": [],
   "source": [
    "# Step 2: Initialize Git repo (only if not already initialized)\n",
    "!git init\n",
    "\n",
    "# Step 3: Add remote GitHub repository\n",
    "!git remote add origin https://github.com/yourusername/repository-name.git\n",
    "\n",
    "# Step 4: Check the status\n",
    "!git status\n",
    "\n",
    "# Step 5: Stage all changes\n",
    "!git add .\n",
    "\n",
    "# Step 6: Commit the changes\n",
    "!git commit -m \"Initial commit\"\n",
    "\n",
    "# Step 7: Push to GitHub (master or main branch)\n",
    "!git push -u origin master  # Replace 'master' with 'main' if needed\n"
   ]
  }
 ],
 "metadata": {
  "kernelspec": {
   "display_name": "Python 3 (ipykernel)",
   "language": "python",
   "name": "python3"
  },
  "language_info": {
   "codemirror_mode": {
    "name": "ipython",
    "version": 3
   },
   "file_extension": ".py",
   "mimetype": "text/x-python",
   "name": "python",
   "nbconvert_exporter": "python",
   "pygments_lexer": "ipython3",
   "version": "3.11.9"
  }
 },
 "nbformat": 4,
 "nbformat_minor": 5
}
